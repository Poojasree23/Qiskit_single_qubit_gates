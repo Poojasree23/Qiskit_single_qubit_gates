{
  "nbformat": 4,
  "nbformat_minor": 0,
  "metadata": {
    "colab": {
      "provenance": []
    },
    "kernelspec": {
      "name": "python3",
      "display_name": "Python 3"
    },
    "language_info": {
      "name": "python"
    }
  },
  "cells": [
    {
      "cell_type": "code",
      "source": [
        "!pip install qiskit qiskit-aer --upgrade"
      ],
      "metadata": {
        "id": "Mx6284lurNt1",
        "colab": {
          "base_uri": "https://localhost:8080/"
        },
        "outputId": "f924fe9b-5d5b-43a6-f222-dc0f83894e76"
      },
      "execution_count": 1,
      "outputs": [
        {
          "output_type": "stream",
          "name": "stdout",
          "text": [
            "Collecting qiskit\n",
            "  Downloading qiskit-2.2.1-cp39-abi3-manylinux2014_x86_64.manylinux_2_17_x86_64.whl.metadata (12 kB)\n",
            "Collecting qiskit-aer\n",
            "  Downloading qiskit_aer-0.17.2-cp312-cp312-manylinux_2_17_x86_64.manylinux2014_x86_64.whl.metadata (8.3 kB)\n",
            "Collecting rustworkx>=0.15.0 (from qiskit)\n",
            "  Downloading rustworkx-0.17.1-cp39-abi3-manylinux_2_17_x86_64.manylinux2014_x86_64.whl.metadata (10 kB)\n",
            "Requirement already satisfied: numpy<3,>=1.17 in /usr/local/lib/python3.12/dist-packages (from qiskit) (2.0.2)\n",
            "Requirement already satisfied: scipy>=1.5 in /usr/local/lib/python3.12/dist-packages (from qiskit) (1.16.2)\n",
            "Requirement already satisfied: dill>=0.3 in /usr/local/lib/python3.12/dist-packages (from qiskit) (0.3.8)\n",
            "Collecting stevedore>=3.0.0 (from qiskit)\n",
            "  Downloading stevedore-5.5.0-py3-none-any.whl.metadata (2.2 kB)\n",
            "Requirement already satisfied: typing-extensions in /usr/local/lib/python3.12/dist-packages (from qiskit) (4.15.0)\n",
            "Requirement already satisfied: psutil>=5 in /usr/local/lib/python3.12/dist-packages (from qiskit-aer) (5.9.5)\n",
            "Requirement already satisfied: python-dateutil>=2.8.0 in /usr/local/lib/python3.12/dist-packages (from qiskit-aer) (2.9.0.post0)\n",
            "Requirement already satisfied: six>=1.5 in /usr/local/lib/python3.12/dist-packages (from python-dateutil>=2.8.0->qiskit-aer) (1.17.0)\n",
            "Downloading qiskit-2.2.1-cp39-abi3-manylinux2014_x86_64.manylinux_2_17_x86_64.whl (8.0 MB)\n",
            "\u001b[2K   \u001b[90m━━━━━━━━━━━━━━━━━━━━━━━━━━━━━━━━━━━━━━━━\u001b[0m \u001b[32m8.0/8.0 MB\u001b[0m \u001b[31m66.0 MB/s\u001b[0m eta \u001b[36m0:00:00\u001b[0m\n",
            "\u001b[?25hDownloading qiskit_aer-0.17.2-cp312-cp312-manylinux_2_17_x86_64.manylinux2014_x86_64.whl (12.4 MB)\n",
            "\u001b[2K   \u001b[90m━━━━━━━━━━━━━━━━━━━━━━━━━━━━━━━━━━━━━━━━\u001b[0m \u001b[32m12.4/12.4 MB\u001b[0m \u001b[31m103.4 MB/s\u001b[0m eta \u001b[36m0:00:00\u001b[0m\n",
            "\u001b[?25hDownloading rustworkx-0.17.1-cp39-abi3-manylinux_2_17_x86_64.manylinux2014_x86_64.whl (2.2 MB)\n",
            "\u001b[2K   \u001b[90m━━━━━━━━━━━━━━━━━━━━━━━━━━━━━━━━━━━━━━━━\u001b[0m \u001b[32m2.2/2.2 MB\u001b[0m \u001b[31m78.2 MB/s\u001b[0m eta \u001b[36m0:00:00\u001b[0m\n",
            "\u001b[?25hDownloading stevedore-5.5.0-py3-none-any.whl (49 kB)\n",
            "\u001b[2K   \u001b[90m━━━━━━━━━━━━━━━━━━━━━━━━━━━━━━━━━━━━━━━━\u001b[0m \u001b[32m49.5/49.5 kB\u001b[0m \u001b[31m3.3 MB/s\u001b[0m eta \u001b[36m0:00:00\u001b[0m\n",
            "\u001b[?25hInstalling collected packages: stevedore, rustworkx, qiskit, qiskit-aer\n",
            "Successfully installed qiskit-2.2.1 qiskit-aer-0.17.2 rustworkx-0.17.1 stevedore-5.5.0\n"
          ]
        }
      ]
    },
    {
      "cell_type": "code",
      "execution_count": 4,
      "metadata": {
        "id": "VPOwLacGrCdU"
      },
      "outputs": [],
      "source": [
        "from qiskit import QuantumCircuit\n",
        "from qiskit_aer import AerSimulator\n",
        "from qiskit.visualization import plot_histogram\n",
        "import matplotlib.pyplot as plt\n",
        "from math import pi\n",
        "\n"
      ]
    },
    {
      "cell_type": "code",
      "source": [
        "simulator = AerSimulator()"
      ],
      "metadata": {
        "id": "7xTfENoAGIX6"
      },
      "execution_count": 6,
      "outputs": []
    },
    {
      "cell_type": "code",
      "source": [
        "qc_base = QuantumCircuit(1)\n",
        "qc_base.h(0)\n",
        "qc_base.x(0)\n",
        "qc_base.rz(pi/2, 0)\n",
        "qc_base.measure_all()\n",
        "\n",
        "job = simulator.run(qc_base, shots=1000)\n",
        "result = job.result()\n",
        "counts = result.get_counts()\n",
        "print(\"Original circuit results:\", counts)\n",
        "plot_histogram(counts)\n",
        "plt.show()\n",
        "\n"
      ],
      "metadata": {
        "colab": {
          "base_uri": "https://localhost:8080/"
        },
        "id": "2gmYm6h_FUwV",
        "outputId": "387e043c-fc65-4916-f8fb-5de907f632e5"
      },
      "execution_count": 7,
      "outputs": [
        {
          "output_type": "stream",
          "name": "stdout",
          "text": [
            "Original circuit results: {'0': 509, '1': 491}\n"
          ]
        }
      ]
    },
    {
      "cell_type": "code",
      "source": [
        " #Task 1 – Change Gate Order (Swap X and H)\n",
        "# =====================================================\n",
        "qc_order = QuantumCircuit(1)\n",
        "qc_order.x(0)      # swapped order: X first\n",
        "qc_order.h(0)      # then H\n",
        "qc_order.rz(pi/2, 0)\n",
        "qc_order.measure_all()\n",
        "\n",
        "job1 = simulator.run(qc_order, shots=1000)\n",
        "result1 = job1.result()\n",
        "counts1 = result1.get_counts()\n",
        "print(\"\\nTask 1 – Changed gate order results:\", counts1)\n",
        "plot_histogram(counts1)\n",
        "plt.show()\n"
      ],
      "metadata": {
        "id": "XXSzfpG9q7hc",
        "colab": {
          "base_uri": "https://localhost:8080/"
        },
        "outputId": "c38c19a2-1dd1-424f-9976-422776b5d9b5"
      },
      "execution_count": 8,
      "outputs": [
        {
          "output_type": "stream",
          "name": "stdout",
          "text": [
            "\n",
            "Task 1 – Changed gate order results: {'1': 525, '0': 475}\n"
          ]
        }
      ]
    },
    {
      "cell_type": "code",
      "source": [
        "for theta in [pi/4, pi/2, pi]:\n",
        "    qc_angle = QuantumCircuit(1)\n",
        "    qc_angle.h(0)\n",
        "    qc_angle.x(0)\n",
        "    qc_angle.rz(theta, 0)\n",
        "    qc_angle.measure_all()\n",
        "\n",
        "    job2 = simulator.run(qc_angle, shots=1000)\n",
        "    result2 = job2.result()\n",
        "    counts2 = result2.get_counts()\n",
        "    print(f\"\\nTask 2 – Rotation angle θ = {theta:.2f} radians results:\", counts2)\n",
        "    plot_histogram(counts2)\n",
        "    plt.show()"
      ],
      "metadata": {
        "colab": {
          "base_uri": "https://localhost:8080/"
        },
        "id": "Hw60Bpt-FcaA",
        "outputId": "13ddf83a-247f-4cbb-c79f-1676027c74cc"
      },
      "execution_count": 9,
      "outputs": [
        {
          "output_type": "stream",
          "name": "stdout",
          "text": [
            "\n",
            "Task 2 – Rotation angle θ = 0.79 radians results: {'1': 515, '0': 485}\n",
            "\n",
            "Task 2 – Rotation angle θ = 1.57 radians results: {'0': 501, '1': 499}\n",
            "\n",
            "Task 2 – Rotation angle θ = 3.14 radians results: {'0': 490, '1': 510}\n"
          ]
        }
      ]
    },
    {
      "cell_type": "code",
      "source": [
        "qc_removed = QuantumCircuit(1)\n",
        "# qc_removed.h(0)  ← Hadamard removed\n",
        "qc_removed.x(0)\n",
        "qc_removed.rz(pi/2, 0)\n",
        "qc_removed.measure_all()\n",
        "\n",
        "job3 = simulator.run(qc_removed, shots=1000)\n",
        "result3 = job3.result()\n",
        "counts3 = result3.get_counts()\n",
        "print(\"\\nTask 3 – Removed Hadamard gate results:\", counts3)\n",
        "plot_histogram(counts3)\n",
        "plt.show()\n"
      ],
      "metadata": {
        "colab": {
          "base_uri": "https://localhost:8080/"
        },
        "id": "wqVg7QV1FrSx",
        "outputId": "de83d5d7-dab6-496d-82be-cb6581f6688f"
      },
      "execution_count": 10,
      "outputs": [
        {
          "output_type": "stream",
          "name": "stdout",
          "text": [
            "\n",
            "Task 3 – Removed Hadamard gate results: {'1': 1000}\n"
          ]
        }
      ]
    }
  ]
}